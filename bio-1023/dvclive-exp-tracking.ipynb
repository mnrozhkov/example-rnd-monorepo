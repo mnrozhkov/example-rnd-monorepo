{
 "cells": [
  {
   "cell_type": "code",
   "execution_count": 5,
   "id": "aa793515",
   "metadata": {},
   "outputs": [],
   "source": [
    "import joblib\n",
    "import numpy as np\n",
    "import pandas as pd\n",
    "from pathlib import Path\n",
    "import os\n",
    "import random\n",
    "from sklearn.ensemble import RandomForestClassifier\n",
    "import time\n",
    "\n",
    "from dvclive import Live"
   ]
  },
  {
   "cell_type": "markdown",
   "id": "1c36f56c-e71a-492d-91e7-2e1ad8f9f6fe",
   "metadata": {},
   "source": [
    "## Prepare data"
   ]
  },
  {
   "cell_type": "code",
   "execution_count": 7,
   "id": "909c73d1-0401-4d4d-bb90-87202e022e2b",
   "metadata": {},
   "outputs": [],
   "source": [
    "DATA_PATH = 'data/features.csv'\n",
    "\n",
    "# Create data dir\n",
    "directory_path = Path('data')\n",
    "directory_path.mkdir(parents=True, exist_ok=True)"
   ]
  },
  {
   "cell_type": "code",
   "execution_count": 8,
   "id": "4e3e6457",
   "metadata": {
    "scrolled": true
   },
   "outputs": [],
   "source": [
    "# Number of rows\n",
    "n_rows = 100\n",
    "n_cols = 5\n",
    "\n",
    "# Generate random float data for features\n",
    "feature_data = np.random.rand(n_rows, n_cols)\n",
    "\n",
    "# Generate random binary data for the target\n",
    "target_data = np.random.randint(2, size=n_rows)\n",
    "\n",
    "# Create a DataFrame for features\n",
    "df_features = pd.DataFrame(feature_data, columns=[f'feature_{i}' for i in range(1, n_cols + 1)])\n",
    "\n",
    "# Add the target column to the DataFrame\n",
    "df_features['target'] = target_data\n",
    "\n",
    "# Save the DataFrame to a CSV file\n",
    "df_features.to_csv(DATA_PATH, index=False)"
   ]
  },
  {
   "cell_type": "code",
   "execution_count": 9,
   "id": "f603c64d",
   "metadata": {
    "scrolled": true
   },
   "outputs": [
    {
     "data": {
      "text/html": [
       "<div>\n",
       "<style scoped>\n",
       "    .dataframe tbody tr th:only-of-type {\n",
       "        vertical-align: middle;\n",
       "    }\n",
       "\n",
       "    .dataframe tbody tr th {\n",
       "        vertical-align: top;\n",
       "    }\n",
       "\n",
       "    .dataframe thead th {\n",
       "        text-align: right;\n",
       "    }\n",
       "</style>\n",
       "<table border=\"1\" class=\"dataframe\">\n",
       "  <thead>\n",
       "    <tr style=\"text-align: right;\">\n",
       "      <th></th>\n",
       "      <th>feature_1</th>\n",
       "      <th>feature_2</th>\n",
       "      <th>feature_3</th>\n",
       "      <th>feature_4</th>\n",
       "      <th>feature_5</th>\n",
       "      <th>target</th>\n",
       "    </tr>\n",
       "  </thead>\n",
       "  <tbody>\n",
       "    <tr>\n",
       "      <th>0</th>\n",
       "      <td>0.828222</td>\n",
       "      <td>0.658647</td>\n",
       "      <td>0.535212</td>\n",
       "      <td>0.429869</td>\n",
       "      <td>0.998945</td>\n",
       "      <td>1</td>\n",
       "    </tr>\n",
       "    <tr>\n",
       "      <th>1</th>\n",
       "      <td>0.543274</td>\n",
       "      <td>0.888434</td>\n",
       "      <td>0.889953</td>\n",
       "      <td>0.569668</td>\n",
       "      <td>0.991725</td>\n",
       "      <td>1</td>\n",
       "    </tr>\n",
       "    <tr>\n",
       "      <th>2</th>\n",
       "      <td>0.234272</td>\n",
       "      <td>0.050941</td>\n",
       "      <td>0.706619</td>\n",
       "      <td>0.721094</td>\n",
       "      <td>0.499815</td>\n",
       "      <td>0</td>\n",
       "    </tr>\n",
       "  </tbody>\n",
       "</table>\n",
       "</div>"
      ],
      "text/plain": [
       "   feature_1  feature_2  feature_3  feature_4  feature_5  target\n",
       "0   0.828222   0.658647   0.535212   0.429869   0.998945       1\n",
       "1   0.543274   0.888434   0.889953   0.569668   0.991725       1\n",
       "2   0.234272   0.050941   0.706619   0.721094   0.499815       0"
      ]
     },
     "execution_count": 9,
     "metadata": {},
     "output_type": "execute_result"
    }
   ],
   "source": [
    "df_features.head(3)"
   ]
  },
  {
   "cell_type": "markdown",
   "id": "7795ed0f-67aa-43df-a719-b993fd2c3452",
   "metadata": {
    "scrolled": true
   },
   "source": [
    "## Train model"
   ]
  },
  {
   "cell_type": "code",
   "execution_count": 10,
   "id": "f926b828-9034-4e68-9bf5-8064d976fa92",
   "metadata": {},
   "outputs": [],
   "source": [
    "MODEL_PATH = \"manifests/manifests.pkl\"\n",
    "\n",
    "directory_path = Path('manifests')\n",
    "directory_path.mkdir(parents=True, exist_ok=True)"
   ]
  },
  {
   "cell_type": "code",
   "execution_count": 11,
   "id": "194d5847-5754-41bf-af9d-eee519ca5e70",
   "metadata": {
    "scrolled": true
   },
   "outputs": [
    {
     "name": "stdout",
     "output_type": "stream",
     "text": [
      "Training Random Forest model - START\n",
      "Max leaf nodes: 5  \t ➡ Mean Absolute Error:  0.7364304783753433\n",
      "Max leaf nodes: 50  \t ➡ Mean Absolute Error:  0.6380626314260218\n",
      "Max leaf nodes: 500  \t ➡ Mean Absolute Error:  0.6742005786004946\n",
      "Max leaf nodes: 5000  \t ➡ Mean Absolute Error:  0.8744539099027187\n"
     ]
    },
    {
     "data": {
      "text/plain": [
       "['manifests/manifests.pkl']"
      ]
     },
     "execution_count": 11,
     "metadata": {},
     "output_type": "execute_result"
    }
   ],
   "source": [
    "print(\"Training Random Forest model - START\")\n",
    "\n",
    "# Load the prepared data\n",
    "data = pd.read_csv(DATA_PATH)\n",
    "\n",
    "# Extract features and target variable\n",
    "X = data.drop('target', axis=1)\n",
    "y = data['target']\n",
    "\n",
    "# Train the model\n",
    "model = RandomForestClassifier() # Example model\n",
    "model.fit(X, y)\n",
    "\n",
    "# Simulate GridSearch hyperparameter tuning\n",
    "errors = []\n",
    "max_leaf_nodes = [5, 50, 500, 5000]\n",
    "for nodes in max_leaf_nodes:\n",
    "    error = random.random()\n",
    "    errors.append(error)\n",
    "    print(f\"Max leaf nodes: {nodes}  \\t ➡ Mean Absolute Error:  {error}\")\n",
    "\n",
    "# Create a DataFrame from the lists\n",
    "datapoints = pd.DataFrame({\n",
    "    'Max Leaf Nodes': max_leaf_nodes,\n",
    "    'Error': errors\n",
    "})\n",
    "\n",
    "# Save the trained model\n",
    "joblib.dump(model, MODEL_PATH)"
   ]
  },
  {
   "cell_type": "markdown",
   "id": "41f56f2e-14bf-4395-ad8c-c947fb3dbbb2",
   "metadata": {},
   "source": [
    "## Log metrics and Artifacts"
   ]
  },
  {
   "cell_type": "code",
   "execution_count": 12,
   "id": "8bae3523-bf5b-4480-923a-c9fdcf1cb273",
   "metadata": {},
   "outputs": [],
   "source": [
    "LIVE_DIR = 'dvclive' # default"
   ]
  },
  {
   "cell_type": "code",
   "execution_count": 14,
   "id": "40253228-ddb3-4309-9351-b1ef925510a6",
   "metadata": {},
   "outputs": [
    {
     "data": {
      "text/markdown": [
       "\n",
       "<div style=\"width: 100%;height: 700px;text-align: center\">\n",
       "DVCLive Report\n",
       "</div>\n"
      ],
      "text/plain": [
       "<IPython.core.display.Markdown object>"
      ]
     },
     "metadata": {},
     "output_type": "display_data"
    },
    {
     "name": "stderr",
     "output_type": "stream",
     "text": [
      "WARNING:dvclive:Report mode 'notebook' requires 'matplotlib' to be installed. Disabling report.\n",
      "WARNING:dvc_studio_client:Failed to post to Studio: {\"detail\":\"Permission denied or repo not found, check access to repo git@github.com:mnrozhkov/improved-engine.git\"}\n",
      "WARNING:dvclive:`post_to_studio` `start` failed.\n"
     ]
    },
    {
     "ename": "KeyboardInterrupt",
     "evalue": "",
     "output_type": "error",
     "traceback": [
      "\u001b[0;31m---------------------------------------------------------------------------\u001b[0m",
      "\u001b[0;31mKeyboardInterrupt\u001b[0m                         Traceback (most recent call last)",
      "Cell \u001b[0;32mIn[14], line 11\u001b[0m\n\u001b[1;32m      9\u001b[0m     live\u001b[38;5;241m.\u001b[39mlog_metric(\u001b[38;5;124m\"\u001b[39m\u001b[38;5;124msegment_A/f1\u001b[39m\u001b[38;5;124m\"\u001b[39m, i \u001b[38;5;241m*\u001b[39m random\u001b[38;5;241m.\u001b[39mrandom())\n\u001b[1;32m     10\u001b[0m     live\u001b[38;5;241m.\u001b[39mnext_step()\n\u001b[0;32m---> 11\u001b[0m     time\u001b[38;5;241m.\u001b[39msleep(\u001b[38;5;241m1\u001b[39m)\n\u001b[1;32m     13\u001b[0m \u001b[38;5;66;03m# Log a plot with datapoints \u001b[39;00m\n\u001b[1;32m     14\u001b[0m live\u001b[38;5;241m.\u001b[39mlog_plot(\n\u001b[1;32m     15\u001b[0m     \u001b[38;5;124m\"\u001b[39m\u001b[38;5;124merrors_vs_leafs\u001b[39m\u001b[38;5;124m\"\u001b[39m,\n\u001b[1;32m     16\u001b[0m     datapoints,\n\u001b[0;32m   (...)\u001b[0m\n\u001b[1;32m     19\u001b[0m     template\u001b[38;5;241m=\u001b[39m\u001b[38;5;124m\"\u001b[39m\u001b[38;5;124msimple\u001b[39m\u001b[38;5;124m\"\u001b[39m,\n\u001b[1;32m     20\u001b[0m     title\u001b[38;5;241m=\u001b[39m\u001b[38;5;124m\"\u001b[39m\u001b[38;5;124mErrors vs Max Leaf Nodes\u001b[39m\u001b[38;5;124m\"\u001b[39m)\n",
      "\u001b[0;31mKeyboardInterrupt\u001b[0m: "
     ]
    }
   ],
   "source": [
    "\n",
    "EPOCHS = 20\n",
    "\n",
    "with Live(dir=LIVE_DIR, \n",
    "          report='notebook') as live:\n",
    "\n",
    "    # Log metrics in multiple epocs \n",
    "    for i in range(EPOCHS):\n",
    "        live.log_metric(\"mae\", i * random.random())\n",
    "        live.log_metric(\"segment_A/f1\", i * random.random())\n",
    "        live.next_step()\n",
    "        time.sleep(1)\n",
    "\n",
    "    # Log a plot with datapoints \n",
    "    live.log_plot(\n",
    "        \"errors_vs_leafs\",\n",
    "        datapoints,\n",
    "        x=\"Max Leaf Nodes\",\n",
    "        y=\"Error\",\n",
    "        template=\"simple\",\n",
    "        title=\"Errors vs Max Leaf Nodes\")\n",
    "\n",
    "    # Log Model / Manifest \n",
    "    live.log_artifact(\n",
    "        path=MODEL_PATH,\n",
    "        type=\"model\",\n",
    "        name=\"manifest\",\n",
    "        labels=[\"bio-1023\", \"example-rnd-monorepo\"],\n",
    "    )\n",
    "    \n",
    "    # Log a Dataset Artifact / Manifest \n",
    "    live.log_artifact(\n",
    "        path=DATA_PATH,\n",
    "        type=\"dataset\",\n",
    "        name=\"data-bio-1023\",\n",
    "        labels=[\"bio-1023\", \"example-rnd-monorepo\"],\n",
    "        meta=[{'columns': data.columns.to_list()}]\n",
    "    )\n",
    "    \n",
    "print(\"Pipeline - bio-1023 - COMPLETE\")\n"
   ]
  },
  {
   "cell_type": "code",
   "execution_count": null,
   "id": "f282e6eb-c74d-4c71-add3-0f76d07eeff2",
   "metadata": {},
   "outputs": [],
   "source": []
  }
 ],
 "metadata": {
  "kernelspec": {
   "display_name": "Python 3 (ipykernel)",
   "language": "python",
   "name": "python3"
  },
  "language_info": {
   "codemirror_mode": {
    "name": "ipython",
    "version": 3
   },
   "file_extension": ".py",
   "mimetype": "text/x-python",
   "name": "python",
   "nbconvert_exporter": "python",
   "pygments_lexer": "ipython3",
   "version": "3.11.6"
  },
  "vscode": {
   "interpreter": {
    "hash": "1f02bfa8ebaa1dae38d977d8c2b7018e9cddf702a1e272af90454e7fd5c68172"
   }
  }
 },
 "nbformat": 4,
 "nbformat_minor": 5
}
